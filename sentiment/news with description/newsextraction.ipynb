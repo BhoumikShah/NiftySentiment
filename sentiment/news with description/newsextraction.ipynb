{
 "cells": [
  {
   "cell_type": "code",
   "execution_count": 3,
   "metadata": {},
   "outputs": [
    {
     "name": "stderr",
     "output_type": "stream",
     "text": [
      "2024-09-22 16:25:10,782 - ERROR - An error occurred while fetching news: HTTPSConnectionPool(host='api.newsdata.io', port=443): Max retries exceeded with url: /v1/news?apikey=d1301d016d024dcb819e57ade041fe67&q=Nifty&language=en&country=in&from=2024-08-24&to=2024-08-24 (Caused by NameResolutionError(\"<urllib3.connection.HTTPSConnection object at 0x000002384D419A30>: Failed to resolve 'api.newsdata.io' ([Errno 11001] getaddrinfo failed)\"))\n",
      "2024-09-22 16:25:10,783 - ERROR - Error: Failed to retrieve news data.\n"
     ]
    }
   ],
   "source": [
    "import requests\n",
    "import pandas as pd\n",
    "import logging\n",
    "\n",
    "# Initialize logging\n",
    "logging.basicConfig(level=logging.INFO, format='%(asctime)s - %(levelname)s - %(message)s')\n",
    "logger = logging.getLogger(__name__)\n",
    "\n",
    "\n",
    "def get_news(api_key, query=\"Nifty\", language=\"en\",\n",
    "             country=\"in\", start_date=None, end_date=None):\n",
    "    \"\"\"\n",
    "    Fetches relevant news articles using the Newsdata API.\n",
    "\n",
    "    Args:\n",
    "        api_key (str): Your Newsdata API key.\n",
    "        query (str, optional): The search query. Defaults to \"Nifty\".\n",
    "        language (str, optional): The language of the articles. Defaults to \"en\".\n",
    "        country (str, optional): The country code (ISO 3166-1 alpha-2) to filter by. Defaults to \"in\" (India).\n",
    "        start_date (str, optional): The start date in YYYY-MM-DD format.\n",
    "        end_date (str, optional): The end date in YYYY-MM-DD format.\n",
    "\n",
    "    Returns:\n",
    "        pd.DataFrame: A DataFrame containing the fetched news data (title, description, url, publishedAt),\n",
    "                      or None if an error occurs.\n",
    "    \"\"\"\n",
    "\n",
    "    url = \"https://api.newsdata.io/v1/news\"\n",
    "    params = {\n",
    "        \"apikey\": api_key,\n",
    "        \"q\": query,\n",
    "        \"language\": language,\n",
    "        \"country\": country,\n",
    "    }\n",
    "\n",
    "    if start_date and end_date:\n",
    "        try:\n",
    "            # Validate date format (YYYY-MM-DD)\n",
    "            from datetime import datetime\n",
    "            datetime.strptime(start_date, \"%Y-%m-%d\")\n",
    "            datetime.strptime(end_date, \"%Y-%m-%d\")\n",
    "            params[\"from\"] = start_date\n",
    "            params[\"to\"] = end_date\n",
    "        except ValueError:\n",
    "            logger.error(\"Invalid start_date or end_date format. Use YYYY-MM-DD.\")\n",
    "            return None\n",
    "\n",
    "    try:\n",
    "        response = requests.get(url, params=params)\n",
    "        response.raise_for_status()  # Raise exception for non-200 status codes\n",
    "\n",
    "        data = response.json()\n",
    "\n",
    "        if data[\"status\"] == \"ok\":\n",
    "            articles = data[\"results\"]\n",
    "\n",
    "            # Extract title, description, url, and publishedAt\n",
    "            news_data = []\n",
    "            for article in articles:\n",
    "                title = article[\"title\"]\n",
    "                description = article[\"description\"] if \"description\" in article else \"\"\n",
    "                url = article[\"link\"]\n",
    "                publishedAt = article[\"pubDate\"]\n",
    "                news_data.append({\"title\": title, \"description\": description, \"url\": url, \"publishedAt\": publishedAt})\n",
    "\n",
    "            return pd.DataFrame(news_data)\n",
    "        else:\n",
    "            logger.error(f\"API error: {data['message']}\")\n",
    "            return None\n",
    "\n",
    "    except requests.exceptions.RequestException as e:\n",
    "        logger.error(f\"An error occurred while fetching news: {e}\")\n",
    "        return None\n",
    "\n",
    "\n",
    "def generate_news_file(api_key, start_date, end_date, output_format=\"csv\"):\n",
    "    \"\"\"\n",
    "    Generates a file containing news headlines for a specified date range.\n",
    "\n",
    "    Args:\n",
    "        api_key (str): Your Newsdata API key.\n",
    "        start_date (str): The start date in YYYY-MM-DD format.\n",
    "        end_date (str): The end date in YYYY-MM-DD format.\n",
    "        output_format (str, optional): The desired output format (csv, json). Defaults to \"csv\".\n",
    "    \"\"\"\n",
    "\n",
    "    news_data = get_news(api_key, start_date=start_date, end_date=end_date)\n",
    "\n",
    "    if news_data is not None:\n",
    "        if output_format == \"csv\":\n",
    "            news_data.to_csv(\"news_data24aug.csv\", index=False)\n",
    "        elif output_format == \"json\":\n",
    "            news_data.to_json(\"news_data.json\", orient=\"records\")\n",
    "        else:\n",
    "            logger.error(f\"Invalid output format: {output_format}\")\n",
    "    else:\n",
    "        logger.error(\"Error: Failed to retrieve news data.\")\n",
    "\n",
    "\n",
    "# Example usage (replace with your actual Newsdata API key)\n",
    "api_key = \"d1301d016d024dcb819e57ade041fe67\"  # Replace with your Newsdata API key\n",
    "start_date = \"2024-08-24\"\n",
    "end_date = \"2024-08-24\"\n",
    "generate_news_file(api_key, start_date, end_date)"
   ]
  },
  {
   "cell_type": "code",
   "execution_count": 2,
   "metadata": {},
   "outputs": [
    {
     "name": "stdout",
     "output_type": "stream",
     "text": [
      "Collecting newsapi-python\n",
      "  Downloading newsapi_python-0.2.7-py2.py3-none-any.whl.metadata (1.2 kB)\n",
      "Requirement already satisfied: requests<3.0.0 in c:\\users\\asus\\appdata\\local\\programs\\python\\python312\\lib\\site-packages (from newsapi-python) (2.32.3)\n",
      "Requirement already satisfied: charset-normalizer<4,>=2 in c:\\users\\asus\\appdata\\local\\programs\\python\\python312\\lib\\site-packages (from requests<3.0.0->newsapi-python) (3.3.2)\n",
      "Requirement already satisfied: idna<4,>=2.5 in c:\\users\\asus\\appdata\\local\\programs\\python\\python312\\lib\\site-packages (from requests<3.0.0->newsapi-python) (3.8)\n",
      "Requirement already satisfied: urllib3<3,>=1.21.1 in c:\\users\\asus\\appdata\\local\\programs\\python\\python312\\lib\\site-packages (from requests<3.0.0->newsapi-python) (2.2.2)\n",
      "Requirement already satisfied: certifi>=2017.4.17 in c:\\users\\asus\\appdata\\local\\programs\\python\\python312\\lib\\site-packages (from requests<3.0.0->newsapi-python) (2024.7.4)\n",
      "Downloading newsapi_python-0.2.7-py2.py3-none-any.whl (7.9 kB)\n",
      "Installing collected packages: newsapi-python\n",
      "Successfully installed newsapi-python-0.2.7\n",
      "Note: you may need to restart the kernel to use updated packages.\n"
     ]
    }
   ],
   "source": [
    "%pip install newsapi-python"
   ]
  },
  {
   "cell_type": "code",
   "execution_count": null,
   "metadata": {},
   "outputs": [],
   "source": []
  },
  {
   "cell_type": "code",
   "execution_count": 5,
   "metadata": {},
   "outputs": [
    {
     "name": "stdout",
     "output_type": "stream",
     "text": [
      "Requirement already satisfied: requests in c:\\users\\asus\\appdata\\local\\programs\\python\\python312\\lib\\site-packages (2.32.3)\n",
      "Requirement already satisfied: panda in c:\\users\\asus\\appdata\\local\\programs\\python\\python312\\lib\\site-packages (0.3.1)\n",
      "Collecting logger\n",
      "  Downloading logger-1.4.tar.gz (1.2 kB)\n",
      "  Preparing metadata (setup.py): started\n",
      "  Preparing metadata (setup.py): finished with status 'done'\n",
      "Requirement already satisfied: charset-normalizer<4,>=2 in c:\\users\\asus\\appdata\\local\\programs\\python\\python312\\lib\\site-packages (from requests) (3.3.2)\n",
      "Requirement already satisfied: idna<4,>=2.5 in c:\\users\\asus\\appdata\\local\\programs\\python\\python312\\lib\\site-packages (from requests) (3.8)\n",
      "Requirement already satisfied: urllib3<3,>=1.21.1 in c:\\users\\asus\\appdata\\local\\programs\\python\\python312\\lib\\site-packages (from requests) (2.2.2)\n",
      "Requirement already satisfied: certifi>=2017.4.17 in c:\\users\\asus\\appdata\\local\\programs\\python\\python312\\lib\\site-packages (from requests) (2024.7.4)\n",
      "Requirement already satisfied: setuptools in c:\\users\\asus\\appdata\\local\\programs\\python\\python312\\lib\\site-packages (from panda) (73.0.1)\n",
      "Building wheels for collected packages: logger\n",
      "  Building wheel for logger (setup.py): started\n",
      "  Building wheel for logger (setup.py): finished with status 'done'\n",
      "  Created wheel for logger: filename=logger-1.4-py3-none-any.whl size=1762 sha256=299d35a23c72334671fbc8860c3ea64447462d05f8f792a2b25831f4d602c6ce\n",
      "  Stored in directory: c:\\users\\asus\\appdata\\local\\pip\\cache\\wheels\\cc\\ef\\15\\aadfb106e1cc7ac1d668efc189bcd98c444211847f7d91bd02\n",
      "Successfully built logger\n",
      "Installing collected packages: logger\n",
      "Successfully installed logger-1.4\n",
      "Note: you may need to restart the kernel to use updated packages.\n"
     ]
    }
   ],
   "source": [
    "%pip install requests panda logger"
   ]
  }
 ],
 "metadata": {
  "kernelspec": {
   "display_name": "Python 3",
   "language": "python",
   "name": "python3"
  },
  "language_info": {
   "codemirror_mode": {
    "name": "ipython",
    "version": 3
   },
   "file_extension": ".py",
   "mimetype": "text/x-python",
   "name": "python",
   "nbconvert_exporter": "python",
   "pygments_lexer": "ipython3",
   "version": "3.12.4"
  }
 },
 "nbformat": 4,
 "nbformat_minor": 2
}
