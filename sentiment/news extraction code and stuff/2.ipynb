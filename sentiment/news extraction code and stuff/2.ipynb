{
 "cells": [
  {
   "cell_type": "code",
   "execution_count": 2,
   "metadata": {},
   "outputs": [],
   "source": [
    "    from pynytimes import NYTAPI\n",
    "    import datetime\n",
    "    import pandas as pd\n",
    "    import numpy as np\n",
    "\n",
    "\n",
    "    def get_news(year, month, day):\n",
    "        \"\"\"\n",
    "        Get top 10 most relevant finance news headings about Nifty 50 on each day from NY Times\n",
    "        \"\"\"\n",
    "        nyt = NYTAPI(\"K3ZFmirIyAwQgWV67ULovCQ4Ucjnv4Hx\", parse_dates=True)\n",
    "        list = []\n",
    "        articles = nyt.article_search(\n",
    "            results=10,\n",
    "            dates={\n",
    "                \"begin\": datetime.datetime(year, month, day),\n",
    "                \"end\": datetime.datetime(year, month, day)\n",
    "            },\n",
    "            options={\n",
    "                \"sort\": \"relevance\",\n",
    "                \"query\": \"Nifty\",  # Add the search query for Nifty 50\n",
    "                \"news_desk\": [\"Business\", \"Business Day\", \"Entrepreneurs\", \"Financial\", \"Technology\"],\n",
    "                \"section_name\": [\"Business\", \"Business Day\", \"Technology\"]\n",
    "            }\n",
    "        )\n",
    "        for i in range(len(articles)):\n",
    "            list.append(articles[i]['abstract'].replace(',', \"\"))\n",
    "        return list\n",
    "\n",
    "\n",
    "    def generate_news_file():\n",
    "        \"\"\"\n",
    "        Store news headings about Nifty 50 for each day of Q3 2022 in csv\n",
    "        \"\"\"\n",
    "        start = '2023-07-22'\n",
    "        end = '2024-08-23'\n",
    "        mydates = pd.date_range(start, end)\n",
    "        dates = []\n",
    "        for i in range(len(mydates)):\n",
    "            dates.append(mydates[i].strftime(\"%Y-%m-%d\"))\n",
    "        matrix = np.zeros((len(dates) + 1, 11), dtype=object)\n",
    "        matrix[0, 0] = \"Date\"\n",
    "\n",
    "        for i in range(10):\n",
    "            matrix[0, i + 1] = f\"News {i + 1}\"\n",
    "        for i in range(len(dates)):\n",
    "            matrix[i + 1, 0] = dates[i]\n",
    "            y, m, d = dates[i].split(\"-\")\n",
    "            news_list = get_news(int(y), int(m), int(d))\n",
    "            for j in range(len(news_list)):\n",
    "                matrix[i + 1, j + 1] = news_list[j]\n",
    "        df = pd.DataFrame(matrix)\n",
    "        df.to_csv(\"nifty_50_news.csv\", index=False)\n",
    "\n",
    "\n",
    "    generate_news_file()"
   ]
  },
  {
   "cell_type": "code",
   "execution_count": 1,
   "metadata": {},
   "outputs": [
    {
     "name": "stdout",
     "output_type": "stream",
     "text": [
      "Collecting pynytimes\n",
      "  Downloading pynytimes-0.10.0-py3-none-any.whl.metadata (8.2 kB)\n",
      "Requirement already satisfied: numpy in c:\\users\\asus\\appdata\\local\\programs\\python\\python312\\lib\\site-packages (1.26.4)\n",
      "Requirement already satisfied: requests<3.0.0,>=2.10.0 in c:\\users\\asus\\appdata\\local\\programs\\python\\python312\\lib\\site-packages (from pynytimes) (2.32.3)\n",
      "Requirement already satisfied: urllib3 in c:\\users\\asus\\appdata\\local\\programs\\python\\python312\\lib\\site-packages (from pynytimes) (2.2.2)\n",
      "Requirement already satisfied: charset-normalizer<4,>=2 in c:\\users\\asus\\appdata\\local\\programs\\python\\python312\\lib\\site-packages (from requests<3.0.0,>=2.10.0->pynytimes) (3.3.2)\n",
      "Requirement already satisfied: idna<4,>=2.5 in c:\\users\\asus\\appdata\\local\\programs\\python\\python312\\lib\\site-packages (from requests<3.0.0,>=2.10.0->pynytimes) (3.8)\n",
      "Requirement already satisfied: certifi>=2017.4.17 in c:\\users\\asus\\appdata\\local\\programs\\python\\python312\\lib\\site-packages (from requests<3.0.0,>=2.10.0->pynytimes) (2024.7.4)\n",
      "Downloading pynytimes-0.10.0-py3-none-any.whl (20 kB)\n",
      "Installing collected packages: pynytimes\n",
      "Successfully installed pynytimes-0.10.0\n",
      "Note: you may need to restart the kernel to use updated packages.\n"
     ]
    },
    {
     "name": "stderr",
     "output_type": "stream",
     "text": [
      "\n",
      "[notice] A new release of pip is available: 24.0 -> 24.2\n",
      "[notice] To update, run: python.exe -m pip install --upgrade pip\n"
     ]
    }
   ],
   "source": [
    "%pip install pynytimes numpy"
   ]
  }
 ],
 "metadata": {
  "kernelspec": {
   "display_name": "Python 3",
   "language": "python",
   "name": "python3"
  },
  "language_info": {
   "codemirror_mode": {
    "name": "ipython",
    "version": 3
   },
   "file_extension": ".py",
   "mimetype": "text/x-python",
   "name": "python",
   "nbconvert_exporter": "python",
   "pygments_lexer": "ipython3",
   "version": "3.12.4"
  }
 },
 "nbformat": 4,
 "nbformat_minor": 2
}
