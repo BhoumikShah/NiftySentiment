{
 "cells": [
  {
   "cell_type": "code",
   "execution_count": 8,
   "metadata": {},
   "outputs": [],
   "source": [
    "import pandas as pd\n",
    "\n",
    "# List of filenames\n",
    "filenames = ['1august.csv', '2august.csv', '3august.csv', '4august.csv', '5august.csv', '6august.csv', '7august.csv', '8august.csv', '9august.csv', '10august.csv', '11august.csv', '12august.csv', '13august.csv', '14august.csv', '15august.csv', '16august.csv', '17august.csv', '18august.csv', '19august.csv', '20august.csv', '21august.csv', '22august.csv', '23august.csv','24july.csv', '25july.csv', '26july.csv', '27july.csv', '29july.csv', '30july.csv', '31july.csv']\n",
    "\n",
    "# Read CSV files and concatenate\n",
    "df = pd.concat([pd.read_csv(filename) for filename in filenames])\n",
    "\n",
    "# Save the merged DataFrame to a new CSV file\n",
    "df.to_csv('merged_data.csv', index=False)"
   ]
  },
  {
   "cell_type": "code",
   "execution_count": 5,
   "metadata": {},
   "outputs": [
    {
     "name": "stdout",
     "output_type": "stream",
     "text": [
      "                                               title  \\\n",
      "0           The Best Smartphones You Can Buy in 2024   \n",
      "1  Monster July Inflows Put ETFs on Track for $1 ...   \n",
      "2  Patriots quarterback watch: Drake Maye has a b...   \n",
      "3  My favorite Star Wars game gets an HD re-relea...   \n",
      "4  The Best Wayfair Outdoor Furniture Deals Avail...   \n",
      "\n",
      "                                                 url           publishedAt  \n",
      "0       https://www.nextpit.com/best-phones-2024-jul  2024-08-01T23:00:01Z  \n",
      "1  http://www.etf.com/sections/monthly-etf-flows/...  2024-08-01T21:51:12Z  \n",
      "2  https://www.bostonglobe.com/2024/08/01/sports/...  2024-08-01T21:20:43Z  \n",
      "3  https://www.gamesradar.com/games/action/my-fav...  2024-08-01T19:49:07Z  \n",
      "4  https://www.forbes.com/sites/forbes-personal-s...  2024-08-01T19:24:23Z  \n"
     ]
    }
   ],
   "source": [
    "import pandas as pd\n",
    "\n",
    "# Assuming your CSV file is named 'data.csv'\n",
    "df = pd.read_csv('1august.csv')\n",
    "\n",
    "# Now you can work with the DataFrame\n",
    "print(df.head())  # Print the first few rows"
   ]
  },
  {
   "cell_type": "code",
   "execution_count": 2,
   "metadata": {},
   "outputs": [
    {
     "name": "stdout",
     "output_type": "stream",
     "text": [
      "Requirement already satisfied: pandas in c:\\users\\asus\\appdata\\local\\programs\\python\\python312\\lib\\site-packages (2.2.2)\n",
      "Requirement already satisfied: numpy>=1.26.0 in c:\\users\\asus\\appdata\\local\\programs\\python\\python312\\lib\\site-packages (from pandas) (1.26.4)\n",
      "Requirement already satisfied: python-dateutil>=2.8.2 in c:\\users\\asus\\appdata\\roaming\\python\\python312\\site-packages (from pandas) (2.9.0.post0)\n",
      "Requirement already satisfied: pytz>=2020.1 in c:\\users\\asus\\appdata\\local\\programs\\python\\python312\\lib\\site-packages (from pandas) (2024.1)\n",
      "Requirement already satisfied: tzdata>=2022.7 in c:\\users\\asus\\appdata\\local\\programs\\python\\python312\\lib\\site-packages (from pandas) (2024.1)\n",
      "Requirement already satisfied: six>=1.5 in c:\\users\\asus\\appdata\\roaming\\python\\python312\\site-packages (from python-dateutil>=2.8.2->pandas) (1.16.0)\n",
      "Note: you may need to restart the kernel to use updated packages.\n"
     ]
    },
    {
     "name": "stderr",
     "output_type": "stream",
     "text": [
      "\n",
      "[notice] A new release of pip is available: 24.0 -> 24.2\n",
      "[notice] To update, run: python.exe -m pip install --upgrade pip\n"
     ]
    }
   ],
   "source": [
    "%pip install pandas"
   ]
  }
 ],
 "metadata": {
  "kernelspec": {
   "display_name": "Python 3",
   "language": "python",
   "name": "python3"
  },
  "language_info": {
   "codemirror_mode": {
    "name": "ipython",
    "version": 3
   },
   "file_extension": ".py",
   "mimetype": "text/x-python",
   "name": "python",
   "nbconvert_exporter": "python",
   "pygments_lexer": "ipython3",
   "version": "3.12.4"
  }
 },
 "nbformat": 4,
 "nbformat_minor": 2
}
